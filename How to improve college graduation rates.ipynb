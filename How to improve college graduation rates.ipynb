{
 "cells": [
  {
   "cell_type": "markdown",
   "metadata": {},
   "source": [
    "### Capstone ###\n",
    "For my capstone project I wanted to look at a real world problem I encountered while working in teaching. Lots of low-income students enter college without the necessary skills to graduate and wind up with lots of student debt and nothing to show for it. I found my data from the National Center for Education Statistics, and attempted to predict which students would drop out of college. "
   ]
  },
  {
   "cell_type": "code",
   "execution_count": 2,
   "metadata": {
    "collapsed": true
   },
   "outputs": [],
   "source": [
    "#importing things\n",
    "import pandas as pd\n",
    "import re\n",
    "import numpy as np\n",
    "from tqdm import tqdm\n",
    "import seaborn as sns\n",
    "import matplotlib.pyplot as plt\n",
    "from sklearn import model_selection\n",
    "from sklearn.linear_model import LogisticRegression\n",
    "from sklearn.tree import DecisionTreeClassifier\n",
    "from sklearn.ensemble import RandomForestClassifier\n",
    "from sklearn.neighbors import KNeighborsClassifier\n",
    "from sklearn.discriminant_analysis import LinearDiscriminantAnalysis, QuadraticDiscriminantAnalysis\n",
    "from sklearn.svm import SVC\n",
    "from sklearn.naive_bayes import GaussianNB\n",
    "from sklearn.model_selection import train_test_split\n",
    "from sklearn.metrics import confusion_matrix\n",
    "import patsy\n",
    "from sklearn.model_selection import GridSearchCV\n",
    "%matplotlib inline\n",
    "pd.options.display.max_columns = 2000\n",
    "pd.options.display.max_rows = 5000\n",
    "tqdm.pandas(desc='progress-bar')"
   ]
  },
  {
   "cell_type": "code",
   "execution_count": 3,
   "metadata": {},
   "outputs": [
    {
     "name": "stderr",
     "output_type": "stream",
     "text": [
      "/Users/rowan/anaconda/lib/python2.7/site-packages/IPython/core/interactiveshell.py:2717: DtypeWarning: Columns (1222) have mixed types. Specify dtype option on import or set low_memory=False.\n",
      "  interactivity=interactivity, compiler=compiler, result=result)\n"
     ]
    }
   ],
   "source": [
    "#reading in the data\n",
    "df = pd.read_csv(\"/Users/rowan/Desktop/els_02_12_byf3pststu_v1_0.csv\")"
   ]
  },
  {
   "cell_type": "code",
   "execution_count": 4,
   "metadata": {},
   "outputs": [
    {
     "data": {
      "text/plain": [
       "(16197, 4012)"
      ]
     },
     "execution_count": 4,
     "metadata": {},
     "output_type": "execute_result"
    }
   ],
   "source": [
    "df.shape"
   ]
  },
  {
   "cell_type": "markdown",
   "metadata": {},
   "source": [
    "## Variable Selection"
   ]
  },
  {
   "cell_type": "code",
   "execution_count": 5,
   "metadata": {
    "collapsed": true
   },
   "outputs": [],
   "source": [
    "df = df.loc[:, (df != -5).any(axis=0)]\n",
    "#getting rid of columns which are restricted as denoted by all values = -5"
   ]
  },
  {
   "cell_type": "code",
   "execution_count": 6,
   "metadata": {},
   "outputs": [
    {
     "data": {
      "text/plain": [
       "(16197, 3084)"
      ]
     },
     "execution_count": 6,
     "metadata": {},
     "output_type": "execute_result"
    }
   ],
   "source": [
    "#successfully got rid of 1000 columns this way\n",
    "df.shape"
   ]
  },
  {
   "cell_type": "code",
   "execution_count": 7,
   "metadata": {
    "collapsed": true
   },
   "outputs": [],
   "source": [
    "#thanks nick\n",
    "#using regex to get rid of columns which are just indicating imputed values in another column\n",
    "#since I'm not going to reimpute columns this isn't relevant\n",
    "clms = df.columns\n",
    "new_clms = [x for x in clms if not re.search(r'IM$', x)]\n",
    "df = df[new_clms]"
   ]
  },
  {
   "cell_type": "code",
   "execution_count": 14,
   "metadata": {
    "collapsed": true
   },
   "outputs": [],
   "source": [
    "#getting rid of all of the columns from the 3rd survey because im not looking for follow up data\n",
    "clmns = df.columns\n",
    "new_clmns = [x for x in clmns if not re.search(r'^F3', x)]\n",
    "new_clmns.append('F3ATTAINMENT')\n",
    "data = df[new_clmns]"
   ]
  },
  {
   "cell_type": "code",
   "execution_count": 15,
   "metadata": {
    "scrolled": true
   },
   "outputs": [
    {
     "data": {
      "text/plain": [
       "(16197, 2575)"
      ]
     },
     "execution_count": 15,
     "metadata": {},
     "output_type": "execute_result"
    }
   ],
   "source": [
    "#this only got rid of about 40 columns\n",
    "data.shape"
   ]
  },
  {
   "cell_type": "code",
   "execution_count": 16,
   "metadata": {
    "collapsed": true
   },
   "outputs": [],
   "source": [
    "#filtering the dataframe so it's only those who ever attended college (this removed about 6000 students)\n",
    "data = data[data.F2EVRATT==1]\n",
    "data = data[data.F3ATTAINMENT > 2]"
   ]
  },
  {
   "cell_type": "code",
   "execution_count": 17,
   "metadata": {
    "collapsed": true
   },
   "outputs": [],
   "source": [
    "#making this into a binary class, graduated or did not graduate\n",
    "data.loc[data.F3ATTAINMENT == 3 , \"F3ATTAINMENT\"] = 0\n",
    "data.loc[data.F3ATTAINMENT == 4 , \"F3ATTAINMENT\"] = 1\n",
    "data.loc[data.F3ATTAINMENT == 5 , \"F3ATTAINMENT\"] = 1\n",
    "data.loc[data.F3ATTAINMENT == 6 , \"F3ATTAINMENT\"] = 1\n",
    "data.loc[data.F3ATTAINMENT == 7 , \"F3ATTAINMENT\"] = 1\n",
    "data.loc[data.F3ATTAINMENT == 8 , \"F3ATTAINMENT\"] = 1\n",
    "data.loc[data.F3ATTAINMENT == 9 , \"F3ATTAINMENT\"] = 1\n",
    "data.loc[data.F3ATTAINMENT == 10 , \"F3ATTAINMENT\"] = 1"
   ]
  },
  {
   "cell_type": "code",
   "execution_count": 18,
   "metadata": {},
   "outputs": [],
   "source": [
    "#getting values which are correlated with students finishing college, positively or negatively\n",
    "c = data.corr().abs()\n",
    "d = c[c.F3ATTAINMENT > 0.25]"
   ]
  },
  {
   "cell_type": "code",
   "execution_count": 19,
   "metadata": {
    "collapsed": true
   },
   "outputs": [],
   "source": [
    "#filtering my data frame so its now only those columns so I don't need to look at the corr for those\n",
    "#variables with all my columns\n",
    "my_cols = d.index\n",
    "data = data[my_cols]"
   ]
  },
  {
   "cell_type": "code",
   "execution_count": 20,
   "metadata": {
    "collapsed": true
   },
   "outputs": [],
   "source": [
    "#renaming columns so they mean something\n",
    "data.rename(columns={'F2PSYR1':'Mon_Enr_After_HS', 'F2PSMO45':'Mon_Enr_in_05', 'F2PS2006':\"Num_Col_Att\", \n",
    "                    'F2PSEJ06':'Type_Col_Att', 'F2PTN1PS':'When_Att_Col', 'F2PTN2PS':'Int_Col_Att',\n",
    "                    'F2PSPPLN':'Pipeline', 'F2C13':'Employment', 'F2C20':'Type_of_Emp',\n",
    "                    'F2D07':'Home_in_College', 'F3ATTAINMENT':'Graduated'}, inplace=True)"
   ]
  },
  {
   "cell_type": "code",
   "execution_count": 21,
   "metadata": {
    "collapsed": true
   },
   "outputs": [],
   "source": [
    "#dropping columns which are highly correlated or have tons of missing values\n",
    "data.drop(['F2B29A', 'F2B29B', 'F2B29C', 'F2B29D', 'F2B29E', 'F2B29F', 'F2B29G',\n",
    "          'F2B29H', 'F2B29I', 'F2B29J', 'F2B29K', 'F2C17P2', 'F2C18P', \n",
    "          'F2C22A', 'F2C22B', 'F2C22C', 'F2C22D', 'F2C23','F2RTYPE'], axis=1, inplace=True)"
   ]
  },
  {
   "cell_type": "code",
   "execution_count": 22,
   "metadata": {},
   "outputs": [
    {
     "data": {
      "text/plain": [
       "(9314, 11)"
      ]
     },
     "execution_count": 22,
     "metadata": {},
     "output_type": "execute_result"
    }
   ],
   "source": [
    "#getting the shape of the df to see how many variables I have left\n",
    "data.shape"
   ]
  },
  {
   "cell_type": "code",
   "execution_count": 23,
   "metadata": {
    "collapsed": true
   },
   "outputs": [],
   "source": [
    "#replacing my negative values (non-responses with 0s so they weight less)\n",
    "#https://stackoverflow.com/questions/27759084/how-to-replace-negative-numbers-in-pandas-data-frame-by-zero\n",
    "data[data < 0] = 0"
   ]
  },
  {
   "cell_type": "code",
   "execution_count": 24,
   "metadata": {},
   "outputs": [
    {
     "data": {
      "text/plain": [
       "<matplotlib.axes._subplots.AxesSubplot at 0x111c112d0>"
      ]
     },
     "execution_count": 24,
     "metadata": {},
     "output_type": "execute_result"
    },
    {
     "data": {
      "image/png": "[encoded data removed]",
      "text/plain": [
       "<matplotlib.figure.Figure at 0x11fd0f150>"
      ]
     },
     "metadata": {},
     "output_type": "display_data"
    }
   ],
   "source": [
    "corrmat = data.corr()\n",
    "f, ax = plt.subplots(figsize=(12, 9))\n",
    "sns.heatmap(corrmat, vmax=.8, square=True, linewidths = 0.4, annot = True)"
   ]
  },
  {
   "cell_type": "code",
   "execution_count": 25,
   "metadata": {},
   "outputs": [
    {
     "data": {
      "image/png": "[encoded data removed]",
      "text/plain": [
       "<matplotlib.figure.Figure at 0x11fe34850>"
      ]
     },
     "metadata": {},
     "output_type": "display_data"
    }
   ],
   "source": [
    "#this shows that people who were enrolled full time after HS tend to be more likely to graduate\n",
    "g = sns.FacetGrid(data, col=\"Graduated\", col_wrap=4)\n",
    "g = (g.map(plt.hist, \"Mon_Enr_After_HS\"))"
   ]
  },
  {
   "cell_type": "code",
   "execution_count": 26,
   "metadata": {},
   "outputs": [
    {
     "data": {
      "image/png": "[encoded data removed]",
      "text/plain": [
       "<matplotlib.figure.Figure at 0x11ff071d0>"
      ]
     },
     "metadata": {},
     "output_type": "display_data"
    }
   ],
   "source": [
    "#shows that people who are enrolled full time at school, as denoted by 1/2/3 are more likely to graduate\n",
    "g = sns.FacetGrid(data, col=\"Graduated\", col_wrap=4)\n",
    "g = (g.map(plt.hist, \"Type_Col_Att\"))"
   ]
  },
  {
   "cell_type": "code",
   "execution_count": 27,
   "metadata": {
    "scrolled": false
   },
   "outputs": [
    {
     "name": "stdout",
     "output_type": "stream",
     "text": [
      "Pipeline          Home_in_College     0.132152\n",
      "Home_in_College   Pipeline            0.132152\n",
      "Graduated         Home_in_College     0.179255\n",
      "Home_in_College   Graduated           0.179255\n",
      "                  Mon_Enr_After_HS    0.184149\n",
      "Mon_Enr_After_HS  Home_in_College     0.184149\n",
      "Mon_Enr_in_05     Home_in_College     0.201788\n",
      "Home_in_College   Mon_Enr_in_05       0.201788\n",
      "Num_Col_Att       Graduated           0.202365\n",
      "Graduated         Num_Col_Att         0.202365\n",
      "Mon_Enr_After_HS  Type_of_Emp         0.213933\n",
      "Type_of_Emp       Mon_Enr_After_HS    0.213933\n",
      "                  Graduated           0.219525\n",
      "Graduated         Type_of_Emp         0.219525\n",
      "Mon_Enr_in_05     Type_of_Emp         0.232570\n",
      "Type_of_Emp       Mon_Enr_in_05       0.232570\n",
      "Pipeline          Num_Col_Att         0.233371\n",
      "Num_Col_Att       Pipeline            0.233371\n",
      "                  Mon_Enr_After_HS    0.235644\n",
      "Mon_Enr_After_HS  Num_Col_Att         0.235644\n",
      "Type_of_Emp       Pipeline            0.242530\n",
      "Pipeline          Type_of_Emp         0.242530\n",
      "Mon_Enr_in_05     Num_Col_Att         0.246044\n",
      "Num_Col_Att       Mon_Enr_in_05       0.246044\n",
      "Employment        Mon_Enr_After_HS    0.247668\n",
      "Mon_Enr_After_HS  Employment          0.247668\n",
      "Home_in_College   When_Att_Col        0.259581\n",
      "When_Att_Col      Home_in_College     0.259581\n",
      "Mon_Enr_in_05     Employment          0.262388\n",
      "Employment        Mon_Enr_in_05       0.262388\n",
      "Int_Col_Att       Home_in_College     0.268727\n",
      "Home_in_College   Int_Col_Att         0.268727\n",
      "Graduated         Employment          0.270048\n",
      "Employment        Graduated           0.270048\n",
      "Pipeline          Graduated           0.275223\n",
      "Graduated         Pipeline            0.275223\n",
      "Mon_Enr_After_HS  Graduated           0.276324\n",
      "Graduated         Mon_Enr_After_HS    0.276324\n",
      "Employment        Pipeline            0.279420\n",
      "Pipeline          Employment          0.279420\n",
      "Num_Col_Att       When_Att_Col        0.283277\n",
      "When_Att_Col      Num_Col_Att         0.283277\n",
      "Mon_Enr_in_05     Graduated           0.285565\n",
      "Graduated         Mon_Enr_in_05       0.285565\n",
      "Int_Col_Att       Graduated           0.306078\n",
      "Graduated         Int_Col_Att         0.306078\n",
      "                  When_Att_Col        0.319877\n",
      "When_Att_Col      Graduated           0.319877\n",
      "Int_Col_Att       Type_of_Emp         0.334861\n",
      "Type_of_Emp       Int_Col_Att         0.334861\n",
      "Num_Col_Att       Int_Col_Att         0.345434\n",
      "Int_Col_Att       Num_Col_Att         0.345434\n",
      "Type_of_Emp       When_Att_Col        0.374722\n",
      "When_Att_Col      Type_of_Emp         0.374722\n",
      "Graduated         Type_Col_Att        0.374979\n",
      "Type_Col_Att      Graduated           0.374979\n",
      "Int_Col_Att       Employment          0.385631\n",
      "Employment        Int_Col_Att         0.385631\n",
      "Type_Col_Att      Mon_Enr_After_HS    0.416100\n",
      "Mon_Enr_After_HS  Type_Col_Att        0.416100\n",
      "Pipeline          Mon_Enr_After_HS    0.419159\n",
      "Mon_Enr_After_HS  Pipeline            0.419159\n",
      "Pipeline          Mon_Enr_in_05       0.424069\n",
      "Mon_Enr_in_05     Pipeline            0.424069\n",
      "When_Att_Col      Employment          0.432863\n",
      "Employment        When_Att_Col        0.432863\n",
      "Mon_Enr_in_05     Type_Col_Att        0.436738\n",
      "Type_Col_Att      Mon_Enr_in_05       0.436738\n",
      "Pipeline          Int_Col_Att         0.493365\n",
      "Int_Col_Att       Pipeline            0.493365\n",
      "Pipeline          Type_Col_Att        0.500344\n",
      "Type_Col_Att      Pipeline            0.500344\n",
      "Home_in_College   Type_of_Emp         0.502020\n",
      "Type_of_Emp       Home_in_College     0.502020\n",
      "                  Num_Col_Att         0.526634\n",
      "Num_Col_Att       Type_of_Emp         0.526634\n",
      "Type_Col_Att      Home_in_College     0.542737\n",
      "Home_in_College   Type_Col_Att        0.542737\n",
      "                  Num_Col_Att         0.552835\n",
      "Num_Col_Att       Home_in_College     0.552835\n",
      "                  Type_Col_Att        0.580589\n",
      "Type_Col_Att      Num_Col_Att         0.580589\n",
      "Home_in_College   Employment          0.591331\n",
      "Employment        Home_in_College     0.591331\n",
      "Type_Col_Att      Type_of_Emp         0.606858\n",
      "Type_of_Emp       Type_Col_Att        0.606858\n",
      "Employment        Num_Col_Att         0.620323\n",
      "Num_Col_Att       Employment          0.620323\n",
      "Mon_Enr_in_05     When_Att_Col        0.647228\n",
      "When_Att_Col      Mon_Enr_in_05       0.647228\n",
      "Int_Col_Att       Type_Col_Att        0.662202\n",
      "Type_Col_Att      Int_Col_Att         0.662202\n",
      "Mon_Enr_After_HS  When_Att_Col        0.663197\n",
      "When_Att_Col      Mon_Enr_After_HS    0.663197\n",
      "Type_Col_Att      When_Att_Col        0.678749\n",
      "When_Att_Col      Type_Col_Att        0.678749\n",
      "Pipeline          When_Att_Col        0.694086\n",
      "When_Att_Col      Pipeline            0.694086\n",
      "Mon_Enr_in_05     Int_Col_Att         0.702983\n",
      "Int_Col_Att       Mon_Enr_in_05       0.702983\n",
      "Type_Col_Att      Employment          0.716626\n",
      "Employment        Type_Col_Att        0.716626\n",
      "Int_Col_Att       Mon_Enr_After_HS    0.731867\n",
      "Mon_Enr_After_HS  Int_Col_Att         0.731867\n",
      "Int_Col_Att       When_Att_Col        0.817721\n",
      "When_Att_Col      Int_Col_Att         0.817721\n",
      "Employment        Type_of_Emp         0.848966\n",
      "Type_of_Emp       Employment          0.848966\n",
      "Mon_Enr_in_05     Mon_Enr_After_HS    0.938819\n",
      "Mon_Enr_After_HS  Mon_Enr_in_05       0.938819\n",
      "                  Mon_Enr_After_HS    1.000000\n",
      "Int_Col_Att       Int_Col_Att         1.000000\n",
      "Type_of_Emp       Type_of_Emp         1.000000\n",
      "Employment        Employment          1.000000\n",
      "Pipeline          Pipeline            1.000000\n",
      "When_Att_Col      When_Att_Col        1.000000\n",
      "Type_Col_Att      Type_Col_Att        1.000000\n",
      "Num_Col_Att       Num_Col_Att         1.000000\n",
      "Mon_Enr_in_05     Mon_Enr_in_05       1.000000\n",
      "Home_in_College   Home_in_College     1.000000\n",
      "Graduated         Graduated           1.000000\n",
      "dtype: float64\n"
     ]
    }
   ],
   "source": [
    "#just getting the correlation with those variables so there's less to look at \n",
    "cor = data.corr().abs()\n",
    "#turning it into a list so it's easier to look at\n",
    "t = cor.unstack()\n",
    "st = t.sort_values(kind=\"quicksort\")\n",
    "print st[:]"
   ]
  },
  {
   "cell_type": "code",
   "execution_count": 28,
   "metadata": {},
   "outputs": [
    {
     "name": "stdout",
     "output_type": "stream",
     "text": [
      "missing values \n",
      "Mon_Enr_After_HS    0\n",
      "Mon_Enr_in_05       0\n",
      "Num_Col_Att         0\n",
      "Type_Col_Att        0\n",
      "When_Att_Col        0\n",
      "Int_Col_Att         0\n",
      "Pipeline            0\n",
      "Employment          0\n",
      "Type_of_Emp         0\n",
      "Home_in_College     0\n",
      "Graduated           0\n",
      "dtype: int64\n",
      "dataframe types \n",
      "Mon_Enr_After_HS    int64\n",
      "Mon_Enr_in_05       int64\n",
      "Num_Col_Att         int64\n",
      "Type_Col_Att        int64\n",
      "When_Att_Col        int64\n",
      "Int_Col_Att         int64\n",
      "Pipeline            int64\n",
      "Employment          int64\n",
      "Type_of_Emp         int64\n",
      "Home_in_College     int64\n",
      "Graduated           int64\n",
      "dtype: object\n",
      "dataframe shape \n",
      "(9314, 11)\n",
      "dataframe describe \n",
      "       Mon_Enr_After_HS  Mon_Enr_in_05  Num_Col_Att  Type_Col_Att  \\\n",
      "count       9314.000000    9314.000000   9314.00000   9314.000000   \n",
      "mean           8.552609       8.727614      0.99184      2.616921   \n",
      "std            3.185903       3.261632      0.61874      2.358395   \n",
      "min            0.000000       0.000000      0.00000      0.000000   \n",
      "25%            9.000000       9.000000      1.00000      1.000000   \n",
      "50%           10.000000      10.000000      1.00000      1.000000   \n",
      "75%           10.000000      11.000000      1.00000      4.000000   \n",
      "max           12.000000      12.000000      4.00000      8.000000   \n",
      "\n",
      "       When_Att_Col  Int_Col_Att     Pipeline   Employment  Type_of_Emp  \\\n",
      "count   9314.000000  9314.000000  9314.000000  9314.000000  9314.000000   \n",
      "mean       3.786343     2.420764     5.496350     0.130234     0.161048   \n",
      "std        3.299711     2.431053     1.812018     0.336579     0.490260   \n",
      "min        0.000000     0.000000     0.000000     0.000000     0.000000   \n",
      "25%        1.000000     1.000000     3.000000     0.000000     0.000000   \n",
      "50%        2.000000     1.000000     7.000000     0.000000     0.000000   \n",
      "75%        6.000000     3.000000     7.000000     0.000000     0.000000   \n",
      "max       13.000000    11.000000     7.000000     1.000000     4.000000   \n",
      "\n",
      "       Home_in_College    Graduated  \n",
      "count      9314.000000  9314.000000  \n",
      "mean          1.599528     0.698626  \n",
      "std           1.046756     0.458880  \n",
      "min           0.000000     0.000000  \n",
      "25%           1.000000     0.000000  \n",
      "50%           2.000000     1.000000  \n",
      "75%           2.000000     1.000000  \n",
      "max           3.000000     1.000000  \n",
      "dataframe length = 9314\n",
      "duplicates 7225\n",
      "Mon_Enr_After_HS\n",
      "13\n",
      "Mon_Enr_in_05\n",
      "13\n",
      "Num_Col_Att\n",
      "5\n",
      "Type_Col_Att\n",
      "9\n",
      "When_Att_Col\n",
      "14\n",
      "Int_Col_Att\n",
      "12\n",
      "Pipeline\n",
      "5\n",
      "Employment\n",
      "2\n",
      "Type_of_Emp\n",
      "5\n",
      "Home_in_College\n",
      "4\n",
      "Graduated\n",
      "2\n"
     ]
    }
   ],
   "source": [
    "def eda(dataframe): #Ritkas code chunk to check quality of data\n",
    "    print \"missing values \\n\", dataframe.isnull().sum() #shows total amount of null values for each column\n",
    "    print \"dataframe types \\n\", dataframe.dtypes\n",
    "    print \"dataframe shape \\n\", dataframe.shape     \n",
    "    print \"dataframe describe \\n\", dataframe.describe()\n",
    "    print \"dataframe length =\", len(dataframe) #length of the dataframe\n",
    "    print \"duplicates\", dataframe.duplicated().sum() # added this to duplicates in the data\n",
    "    for item in dataframe:\n",
    "        print item\n",
    "        print dataframe[item].nunique()\n",
    "        \n",
    "eda(data)"
   ]
  },
  {
   "cell_type": "markdown",
   "metadata": {},
   "source": [
    "## Modeling"
   ]
  },
  {
   "cell_type": "code",
   "execution_count": 29,
   "metadata": {},
   "outputs": [
    {
     "name": "stdout",
     "output_type": "stream",
     "text": [
      "0.747234873129\n",
      "Confusion Matrix:\n",
      "            PREDICTED YES  PREDICTED NO\n",
      "ACTUAL YES           1934           556\n",
      "ACTUAL NO             221           363\n"
     ]
    }
   ],
   "source": [
    "from sklearn.linear_model import LogisticRegression\n",
    "from sklearn.model_selection import train_test_split\n",
    "from sklearn.metrics import confusion_matrix\n",
    "\n",
    "X = patsy.dmatrix('~ (Mon_Enr_After_HS) + (Mon_Enr_in_05) + (Num_Col_Att) + (Type_Col_Att) + (When_Att_Col) + (Int_Col_Att) + (Pipeline) + (Employment) + (Type_of_Emp) + (Home_in_College) + (Mon_Enr_After_HS:Mon_Enr_in_05) + (Employment:Type_of_Emp) + (Int_Col_Att:When_Att_Col)', data)\n",
    "X = pd.DataFrame(X, columns=X.design_info.column_names)\n",
    "y = data.Graduated\n",
    "\n",
    "X_train, X_test, y_train, y_test = train_test_split(X, y, test_size=0.33)\n",
    "\n",
    "logreg = LogisticRegression(random_state=77)\n",
    "logreg.fit(X_train, y_train)\n",
    "Y_pred = logreg.predict(X_test)\n",
    "print logreg.score(X_test,y_test)\n",
    "\n",
    "cm = np.array(confusion_matrix(Y_pred, y_test, labels=[True,False]))\n",
    "names = ['ACTUAL YES', 'ACTUAL NO', 'PREDICTED YES', 'PREDICTED NO']\n",
    "confusion = pd.DataFrame(cm, index=names[:2], columns=names[2:])\n",
    "    \n",
    "print \"Confusion Matrix:\"\n",
    "print confusion"
   ]
  },
  {
   "cell_type": "code",
   "execution_count": 30,
   "metadata": {},
   "outputs": [
    {
     "data": {
      "text/plain": [
       "(0.7237519765077931, 0.015204774310133673)"
      ]
     },
     "execution_count": 30,
     "metadata": {},
     "output_type": "execute_result"
    }
   ],
   "source": [
    "from sklearn.ensemble import BaggingClassifier\n",
    "from sklearn.model_selection import cross_val_score\n",
    "\n",
    "def do_cross_val(model):\n",
    "    scores = cross_val_score(model, X, y, cv=5, n_jobs=-1)\n",
    "    return scores.mean(), scores.std()\n",
    "\n",
    "bdt = BaggingClassifier(DecisionTreeClassifier())\n",
    "\n",
    "do_cross_val(bdt)\n"
   ]
  },
  {
   "cell_type": "code",
   "execution_count": 31,
   "metadata": {},
   "outputs": [
    {
     "data": {
      "text/plain": [
       "(0.72589893648898463, 0.016902383967014035)"
      ]
     },
     "execution_count": 31,
     "metadata": {},
     "output_type": "execute_result"
    }
   ],
   "source": [
    "brf = BaggingClassifier(RandomForestClassifier())\n",
    "do_cross_val(brf)"
   ]
  },
  {
   "cell_type": "code",
   "execution_count": 32,
   "metadata": {
    "collapsed": true
   },
   "outputs": [],
   "source": [
    "def Super_Fit_Models():\n",
    "    X = patsy.dmatrix('~ (Mon_Enr_After_HS) + (Mon_Enr_in_05) + (Num_Col_Att) + (Type_Col_Att) + (When_Att_Col) + (Int_Col_Att) + (Pipeline) + (Employment) + (Type_of_Emp) + (Home_in_College) + (Mon_Enr_After_HS:Mon_Enr_in_05) + (Employment:Type_of_Emp) + (Int_Col_Att:When_Att_Col)', data)\n",
    "    X = pd.DataFrame(X, columns=X.design_info.column_names)\n",
    "    y = data.Graduated\n",
    "    X_train, X_test, y_train, y_test = train_test_split(X, y, test_size=0.33)\n",
    "  # prepare configuration for cross validation test harness\n",
    "    seed = 7\n",
    "  # prepare models\n",
    "    models = []\n",
    "    models.append(('LR', LogisticRegression()))\n",
    "    models.append(('LDA', LinearDiscriminantAnalysis()))\n",
    "    models.append(('KNN', KNeighborsClassifier()))\n",
    "    models.append(('CART', DecisionTreeClassifier()))\n",
    "    models.append(('NB', GaussianNB()))\n",
    "    models.append(('SVM', SVC()))\n",
    "    models.append(('RF', RandomForestClassifier()))\n",
    "  # evaluate each model in turn\n",
    "    results = []\n",
    "    names = []\n",
    "    scoring = 'accuracy'\n",
    "    for name, model in models:\n",
    "        kfold = model_selection.KFold(n_splits=10, random_state=seed)\n",
    "        cv_results = model_selection.cross_val_score(model, X_train, y_train, cv=kfold, scoring=scoring)\n",
    "        results.append(cv_results)\n",
    "        names.append(name)\n",
    "        msg = \"%s: %f (%f)\" % (name, cv_results.mean(), cv_results.std())\n",
    "        print(msg)\n",
    "  # boxplot algorithm comparison\n",
    "    fig = plt.figure()\n",
    "    fig.suptitle('Algorithm Comparison')\n",
    "    ax = fig.add_subplot(111)\n",
    "    plt.boxplot(results)\n",
    "    ax.set_xticklabels(names)\n",
    "    plt.show()"
   ]
  },
  {
   "cell_type": "code",
   "execution_count": 33,
   "metadata": {
    "scrolled": false
   },
   "outputs": [
    {
     "name": "stdout",
     "output_type": "stream",
     "text": [
      "LR: 0.752404 (0.016534)\n",
      "LDA: 0.751442 (0.018681)\n"
     ]
    },
    {
     "name": "stderr",
     "output_type": "stream",
     "text": [
      "/Users/rowan/anaconda/lib/python2.7/site-packages/sklearn/discriminant_analysis.py:387: UserWarning: Variables are collinear.\n",
      "  warnings.warn(\"Variables are collinear.\")\n"
     ]
    },
    {
     "name": "stdout",
     "output_type": "stream",
     "text": [
      "KNN: 0.712821 (0.021877)\n",
      "CART: 0.723878 (0.019205)\n",
      "NB: 0.743269 (0.017669)\n",
      "SVM: 0.741186 (0.018078)\n",
      "RF: 0.726763 (0.017777)\n"
     ]
    },
    {
     "data": {
      "image/png": "[encoded data removed]",
      "text/plain": [
       "<matplotlib.figure.Figure at 0x11ff11310>"
      ]
     },
     "metadata": {},
     "output_type": "display_data"
    }
   ],
   "source": [
    "Super_Fit_Models()"
   ]
  },
  {
   "cell_type": "code",
   "execution_count": 34,
   "metadata": {},
   "outputs": [
    {
     "data": {
      "text/plain": [
       "{'C': 10,\n",
       " 'class_weight': None,\n",
       " 'dual': False,\n",
       " 'fit_intercept': True,\n",
       " 'intercept_scaling': 1,\n",
       " 'max_iter': 100,\n",
       " 'multi_class': 'ovr',\n",
       " 'n_jobs': 1,\n",
       " 'penalty': 'l1',\n",
       " 'random_state': None,\n",
       " 'solver': 'liblinear',\n",
       " 'tol': 0.0001,\n",
       " 'verbose': 0,\n",
       " 'warm_start': False}"
      ]
     },
     "execution_count": 34,
     "metadata": {},
     "output_type": "execute_result"
    }
   ],
   "source": [
    "parameters = {\n",
    "    'penalty': ('l1', 'l2'),\n",
    "    'C': (0.001,0.01,0.1,1,10),\n",
    "    'class_weight': ('balanced', {0:2,1:3}, None)\n",
    "}\n",
    "logreg = LogisticRegression()\n",
    "clf = GridSearchCV(logreg, parameters)\n",
    "clf.fit(X,y)\n",
    "clf.best_estimator_.get_params()"
   ]
  },
  {
   "cell_type": "code",
   "execution_count": 36,
   "metadata": {},
   "outputs": [
    {
     "data": {
      "text/plain": [
       "0.74189392312647628"
      ]
     },
     "execution_count": 36,
     "metadata": {},
     "output_type": "execute_result"
    }
   ],
   "source": [
    "clf.best_score_"
   ]
  },
  {
   "cell_type": "code",
   "execution_count": 37,
   "metadata": {},
   "outputs": [],
   "source": [
    "logreg = LogisticRegression().fit(X_train,y_train)\n",
    "Y_pred = logreg.predict(X_test)"
   ]
  },
  {
   "cell_type": "code",
   "execution_count": 38,
   "metadata": {},
   "outputs": [
    {
     "data": {
      "text/html": [
       "<div>\n",
       "<style>\n",
       "    .dataframe thead tr:only-child th {\n",
       "        text-align: right;\n",
       "    }\n",
       "\n",
       "    .dataframe thead th {\n",
       "        text-align: left;\n",
       "    }\n",
       "\n",
       "    .dataframe tbody tr th {\n",
       "        vertical-align: top;\n",
       "    }\n",
       "</style>\n",
       "<table border=\"1\" class=\"dataframe\">\n",
       "  <thead>\n",
       "    <tr style=\"text-align: right;\">\n",
       "      <th></th>\n",
       "      <th>0</th>\n",
       "    </tr>\n",
       "  </thead>\n",
       "  <tbody>\n",
       "    <tr>\n",
       "      <th>Intercept</th>\n",
       "      <td>1.301810</td>\n",
       "    </tr>\n",
       "    <tr>\n",
       "      <th>Mon_Enr_After_HS</th>\n",
       "      <td>1.015884</td>\n",
       "    </tr>\n",
       "    <tr>\n",
       "      <th>Mon_Enr_in_05</th>\n",
       "      <td>1.050430</td>\n",
       "    </tr>\n",
       "    <tr>\n",
       "      <th>Num_Col_Att</th>\n",
       "      <td>0.902471</td>\n",
       "    </tr>\n",
       "    <tr>\n",
       "      <th>Type_Col_Att</th>\n",
       "      <td>0.813017</td>\n",
       "    </tr>\n",
       "    <tr>\n",
       "      <th>When_Att_Col</th>\n",
       "      <td>0.947869</td>\n",
       "    </tr>\n",
       "    <tr>\n",
       "      <th>Int_Col_Att</th>\n",
       "      <td>0.830309</td>\n",
       "    </tr>\n",
       "    <tr>\n",
       "      <th>Pipeline</th>\n",
       "      <td>1.113877</td>\n",
       "    </tr>\n",
       "    <tr>\n",
       "      <th>Employment</th>\n",
       "      <td>0.647855</td>\n",
       "    </tr>\n",
       "    <tr>\n",
       "      <th>Type_of_Emp</th>\n",
       "      <td>1.029199</td>\n",
       "    </tr>\n",
       "    <tr>\n",
       "      <th>Home_in_College</th>\n",
       "      <td>0.946478</td>\n",
       "    </tr>\n",
       "    <tr>\n",
       "      <th>Mon_Enr_After_HS:Mon_Enr_in_05</th>\n",
       "      <td>1.003847</td>\n",
       "    </tr>\n",
       "    <tr>\n",
       "      <th>Employment:Type_of_Emp</th>\n",
       "      <td>1.029199</td>\n",
       "    </tr>\n",
       "    <tr>\n",
       "      <th>Int_Col_Att:When_Att_Col</th>\n",
       "      <td>1.024641</td>\n",
       "    </tr>\n",
       "  </tbody>\n",
       "</table>\n",
       "</div>"
      ],
      "text/plain": [
       "                                       0\n",
       "Intercept                       1.301810\n",
       "Mon_Enr_After_HS                1.015884\n",
       "Mon_Enr_in_05                   1.050430\n",
       "Num_Col_Att                     0.902471\n",
       "Type_Col_Att                    0.813017\n",
       "When_Att_Col                    0.947869\n",
       "Int_Col_Att                     0.830309\n",
       "Pipeline                        1.113877\n",
       "Employment                      0.647855\n",
       "Type_of_Emp                     1.029199\n",
       "Home_in_College                 0.946478\n",
       "Mon_Enr_After_HS:Mon_Enr_in_05  1.003847\n",
       "Employment:Type_of_Emp          1.029199\n",
       "Int_Col_Att:When_Att_Col        1.024641"
      ]
     },
     "execution_count": 38,
     "metadata": {},
     "output_type": "execute_result"
    }
   ],
   "source": [
    "gslogreg = LogisticRegression(C=10).fit(X_train,y_train)\n",
    "coef = pd.DataFrame(np.exp(gslogreg.coef_))\n",
    "coef.columns = X.columns\n",
    "coef = coef.T\n",
    "coef"
   ]
  },
  {
   "cell_type": "markdown",
   "metadata": {
    "collapsed": true
   },
   "source": [
    "### Conclusions ###\n",
    "I found that the most important factor in determining whether or not a student will graduate is the kind of school they went to and when they entered school. Students who entered school full-time were more likely to graduate than students who only went to school part time and students who went to for-profit colleges were less likely to graduate than students who went to non-profit schools. The federal government has been cracking down on for-profit schools for a while, which is good, and should continue as most students who attend them will not graduate. \n",
    "My next step to further this project is to get the non-restricted data set so I can get demographic information as I believe that would be a very good predictor and be more meaningful."
   ]
  }
 ],
 "metadata": {
  "kernelspec": {
   "display_name": "Python 2",
   "language": "python",
   "name": "python2"
  },
  "language_info": {
   "codemirror_mode": {
    "name": "ipython",
    "version": 2
   },
   "file_extension": ".py",
   "mimetype": "text/x-python",
   "name": "python",
   "nbconvert_exporter": "python",
   "pygments_lexer": "ipython2",
   "version": "2.7.13"
  }
 },
 "nbformat": 4,
 "nbformat_minor": 2
}
